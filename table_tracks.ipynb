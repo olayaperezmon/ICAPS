{
 "cells": [
  {
   "cell_type": "code",
   "execution_count": 9,
   "metadata": {},
   "outputs": [],
   "source": [
    "import math\n",
    "import numpy as np\n",
    "import pandas as pd"
   ]
  },
  {
   "cell_type": "code",
   "execution_count": 10,
   "metadata": {},
   "outputs": [],
   "source": [
    "groups = ['Depots', 'DriverLog', 'Rovers', 'ZenoTravel', 'Satellite']\n",
    "planners_analysed = ['lpg', 'sgplan']\n",
    "timeout = 30"
   ]
  },
  {
   "cell_type": "markdown",
   "metadata": {},
   "source": [
    "# OPTIMAL TRACK"
   ]
  },
  {
   "cell_type": "code",
   "execution_count": 18,
   "metadata": {},
   "outputs": [
    {
     "name": "stdout",
     "output_type": "stream",
     "text": [
      "       OPTIMAL TRACK   -  total maximum over 102 \n"
     ]
    },
    {
     "data": {
      "text/html": [
       "<div>\n",
       "<style scoped>\n",
       "    .dataframe tbody tr th:only-of-type {\n",
       "        vertical-align: middle;\n",
       "    }\n",
       "\n",
       "    .dataframe tbody tr th {\n",
       "        vertical-align: top;\n",
       "    }\n",
       "\n",
       "    .dataframe thead th {\n",
       "        text-align: right;\n",
       "    }\n",
       "</style>\n",
       "<table border=\"1\" class=\"dataframe\">\n",
       "  <thead>\n",
       "    <tr style=\"text-align: right;\">\n",
       "      <th></th>\n",
       "      <th></th>\n",
       "      <th>Depots (22)</th>\n",
       "      <th>DriverLog (20)</th>\n",
       "      <th>Rovers (20)</th>\n",
       "      <th>ZenoTravel (20)</th>\n",
       "      <th>Satellite (20)</th>\n",
       "      <th>Total (102)</th>\n",
       "    </tr>\n",
       "  </thead>\n",
       "  <tbody>\n",
       "    <tr>\n",
       "      <th>0</th>\n",
       "      <td>lpg</td>\n",
       "      <td>22</td>\n",
       "      <td>20</td>\n",
       "      <td>20</td>\n",
       "      <td>20</td>\n",
       "      <td>20</td>\n",
       "      <td>102</td>\n",
       "    </tr>\n",
       "    <tr>\n",
       "      <th>1</th>\n",
       "      <td>sgplan</td>\n",
       "      <td>20</td>\n",
       "      <td>17</td>\n",
       "      <td>20</td>\n",
       "      <td>20</td>\n",
       "      <td>20</td>\n",
       "      <td>97</td>\n",
       "    </tr>\n",
       "  </tbody>\n",
       "</table>\n",
       "</div>"
      ],
      "text/plain": [
       "           Depots (22)  DriverLog (20)  Rovers (20)  ZenoTravel (20)  \\\n",
       "0     lpg           22              20           20               20   \n",
       "1  sgplan           20              17           20               20   \n",
       "\n",
       "   Satellite (20)  Total (102)  \n",
       "0              20          102  \n",
       "1              20           97  "
      ]
     },
     "execution_count": 18,
     "metadata": {},
     "output_type": "execute_result"
    }
   ],
   "source": [
    "data = {'': planners_analysed}\n",
    "total = 0 \n",
    "for gr in groups:\n",
    "    name = 'results_'+gr+'.csv'\n",
    "    df = pd.read_csv(name)\n",
    "    if gr=='Depots':\n",
    "        n_max_tasks = 22\n",
    "    else: \n",
    "        n_max_tasks = 20\n",
    "    aux = []\n",
    "    total = total + n_max_tasks\n",
    "    for pl in planners_analysed:\n",
    "        locals()['n_'+pl] = int((df['Planner'].str.count(pl).sum()/n_max_tasks)*n_max_tasks)\n",
    "        aux.append(locals()['n_'+pl])\n",
    "    data.update({gr+' ('+str(n_max_tasks)+')':aux})\n",
    "\n",
    "df_def = pd.DataFrame(data)\n",
    "tot_count = []\n",
    "for i in range(0,len(df_def)):\n",
    "    tot_count.append(df_def.iloc[i][1:].sum())\n",
    "df_def[\"Total (\"+str(total)+\")\"]= tot_count\n",
    "\n",
    "print(f\"       OPTIMAL TRACK   -  total maximum over {total} \")\n",
    "df_def\n"
   ]
  },
  {
   "cell_type": "markdown",
   "metadata": {},
   "source": [
    "# AGILE TRACK"
   ]
  },
  {
   "cell_type": "code",
   "execution_count": 17,
   "metadata": {},
   "outputs": [
    {
     "name": "stdout",
     "output_type": "stream",
     "text": [
      "       AGILE TRACK   -  total maximum over 102 \n"
     ]
    },
    {
     "data": {
      "text/html": [
       "<div>\n",
       "<style scoped>\n",
       "    .dataframe tbody tr th:only-of-type {\n",
       "        vertical-align: middle;\n",
       "    }\n",
       "\n",
       "    .dataframe tbody tr th {\n",
       "        vertical-align: top;\n",
       "    }\n",
       "\n",
       "    .dataframe thead th {\n",
       "        text-align: right;\n",
       "    }\n",
       "</style>\n",
       "<table border=\"1\" class=\"dataframe\">\n",
       "  <thead>\n",
       "    <tr style=\"text-align: right;\">\n",
       "      <th></th>\n",
       "      <th></th>\n",
       "      <th>Depots (22)</th>\n",
       "      <th>DriverLog (20)</th>\n",
       "      <th>Rovers (20)</th>\n",
       "      <th>ZenoTravel (20)</th>\n",
       "      <th>Satellite (20)</th>\n",
       "      <th>Total (102)</th>\n",
       "    </tr>\n",
       "  </thead>\n",
       "  <tbody>\n",
       "    <tr>\n",
       "      <th>0</th>\n",
       "      <td>lpg</td>\n",
       "      <td>21.821360</td>\n",
       "      <td>18.644072</td>\n",
       "      <td>19.922861</td>\n",
       "      <td>18.5661</td>\n",
       "      <td>20</td>\n",
       "      <td>98.954393</td>\n",
       "    </tr>\n",
       "    <tr>\n",
       "      <th>1</th>\n",
       "      <td>sgplan</td>\n",
       "      <td>19.233235</td>\n",
       "      <td>16.134656</td>\n",
       "      <td>20.000000</td>\n",
       "      <td>20.0000</td>\n",
       "      <td>20</td>\n",
       "      <td>95.367890</td>\n",
       "    </tr>\n",
       "  </tbody>\n",
       "</table>\n",
       "</div>"
      ],
      "text/plain": [
       "           Depots (22)  DriverLog (20)  Rovers (20)  ZenoTravel (20)  \\\n",
       "0     lpg    21.821360       18.644072    19.922861          18.5661   \n",
       "1  sgplan    19.233235       16.134656    20.000000          20.0000   \n",
       "\n",
       "   Satellite (20)  Total (102)  \n",
       "0              20    98.954393  \n",
       "1              20    95.367890  "
      ]
     },
     "execution_count": 17,
     "metadata": {},
     "output_type": "execute_result"
    }
   ],
   "source": [
    "data = {'': planners_analysed}\n",
    "for gr in groups:\n",
    "    name = 'results_'+gr+'.csv'\n",
    "    df = pd.read_csv(name)\n",
    "    aux = []\n",
    "    if gr=='Depots':\n",
    "        n_max_tasks = 22\n",
    "    else: \n",
    "        n_max_tasks = 20\n",
    "    for pl in planners_analysed:\n",
    "        st = np.array(df.loc[df['Planner'] == pl, 'Search_Time'])\n",
    "        nl = sum([1 if x < 1 else (1-math.log10(x)/math.log10(timeout)) for x in st])\n",
    "        aux.append(nl)\n",
    "    data.update({gr+' ('+str(n_max_tasks)+')':aux})\n",
    "\n",
    "df_def = pd.DataFrame(data)\n",
    "tot_count = []\n",
    "for i in range(0,len(df_def)):\n",
    "    tot_count.append(df_def.iloc[i][1:].sum())\n",
    "df_def[\"Total (\"+str(total)+\")\"]= tot_count\n",
    "\n",
    "print(f\"       AGILE TRACK   -  total maximum over {total} \")\n",
    "df_def\n"
   ]
  }
 ],
 "metadata": {
  "kernelspec": {
   "display_name": "Python 3",
   "language": "python",
   "name": "python3"
  },
  "language_info": {
   "codemirror_mode": {
    "name": "ipython",
    "version": 3
   },
   "file_extension": ".py",
   "mimetype": "text/x-python",
   "name": "python",
   "nbconvert_exporter": "python",
   "pygments_lexer": "ipython3",
   "version": "3.10.6"
  },
  "orig_nbformat": 4,
  "vscode": {
   "interpreter": {
    "hash": "916dbcbb3f70747c44a77c7bcd40155683ae19c65e1c03b4aa3499c5328201f1"
   }
  }
 },
 "nbformat": 4,
 "nbformat_minor": 2
}
